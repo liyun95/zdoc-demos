{
 "cells": [
  {
   "cell_type": "code",
   "execution_count": 6,
   "metadata": {},
   "outputs": [
    {
     "name": "stdout",
     "output_type": "stream",
     "text": [
      "Failed to get 241\n",
      "Failed to get 242\n"
     ]
    }
   ],
   "source": [
    "import pandas as pd\n",
    "import requests\n",
    "\n",
    "def get_passage(id, link):\n",
    "    try:\n",
    "        html = requests.get(link).text\n",
    "        with open(f'../passages/{id}.html', 'w') as f:\n",
    "            f.write(html)\n",
    "    except:\n",
    "        print(f'Failed to get {id}')\n",
    "\n",
    "\n",
    "with open('../New_Medium_Data.csv') as f:\n",
    "    df = pd.read_csv(f)\n",
    "    df['vector'] = [ x for x in df['vector'].apply(lambda x: x[1:-1].split(',')) ]\n",
    "    df['vector'] = df['vector'].apply(lambda x: [float(i) for i in x])\n",
    "\n",
    "    for i, row in df.iterrows():\n",
    "        get_passage(row['id'], row['link'])\n",
    "\n",
    "    df.to_csv('../New_Medium_Data.csv', index=False)\n",
    "    "
   ]
  }
 ],
 "metadata": {
  "kernelspec": {
   "display_name": "python",
   "language": "python",
   "name": "python3"
  },
  "language_info": {
   "codemirror_mode": {
    "name": "ipython",
    "version": 3
   },
   "file_extension": ".py",
   "mimetype": "text/x-python",
   "name": "python",
   "nbconvert_exporter": "python",
   "pygments_lexer": "ipython3",
   "version": "3.11.5"
  }
 },
 "nbformat": 4,
 "nbformat_minor": 2
}
