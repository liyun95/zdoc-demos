{
 "cells": [
  {
   "cell_type": "markdown",
   "metadata": {},
   "source": [
    "# Image Search with Zilliz Cloud and PyTorch\n",
    "\n",
    "On this page, we are going to go over a simple image search example using Zilliz Cloud. The dataset we are searching through is the Impressionist-Classifier Dataset found on [Kaggle](https://www.kaggle.com/datasets/delayedkarma/impressionist-classifier-data). For this example, we have re-hosted the data in a public google drive.\n",
    "\n",
    "For this example, we are just using a 1 CU cluster and using the Torchvision pre-trained ResNet50 model for embeddings. Let's get started!\n",
    "\n",
    "## Before you start\n",
    "\n",
    "For this example, we are going to use **pymilvus** to connect to Zilliz Cloud, **torch** to run the embedding model, **torchvision** for the actual model and preprocessing, **gdown** to download the example dataset and **tqdm** for loading bars."
   ]
  },
  {
   "cell_type": "code",
   "execution_count": 1,
   "metadata": {},
   "outputs": [
    {
     "name": "stdout",
     "output_type": "stream",
     "text": [
      "Requirement already satisfied: pymilvus in /Users/zilliz/miniforge3/lib/python3.10/site-packages (2.3.2)\n",
      "Requirement already satisfied: torch in /Users/zilliz/miniforge3/lib/python3.10/site-packages (2.1.0)\n",
      "Requirement already satisfied: gdown in /Users/zilliz/miniforge3/lib/python3.10/site-packages (4.7.1)\n",
      "Requirement already satisfied: torchvision in /Users/zilliz/miniforge3/lib/python3.10/site-packages (0.15.2a0)\n",
      "Requirement already satisfied: tqdm in /Users/zilliz/miniforge3/lib/python3.10/site-packages (4.66.1)\n",
      "Requirement already satisfied: grpcio<=1.58.0,>=1.49.1 in /Users/zilliz/miniforge3/lib/python3.10/site-packages (from pymilvus) (1.58.0)\n",
      "Requirement already satisfied: protobuf>=3.20.0 in /Users/zilliz/miniforge3/lib/python3.10/site-packages (from pymilvus) (4.25.0)\n",
      "Requirement already satisfied: environs<=9.5.0 in /Users/zilliz/miniforge3/lib/python3.10/site-packages (from pymilvus) (9.5.0)\n",
      "Requirement already satisfied: ujson>=2.0.0 in /Users/zilliz/miniforge3/lib/python3.10/site-packages (from pymilvus) (5.8.0)\n",
      "Requirement already satisfied: pandas>=1.2.4 in /Users/zilliz/miniforge3/lib/python3.10/site-packages (from pymilvus) (1.5.3)\n",
      "Requirement already satisfied: requests in /Users/zilliz/miniforge3/lib/python3.10/site-packages (from pymilvus) (2.31.0)\n",
      "Requirement already satisfied: minio>=7.0.0 in /Users/zilliz/miniforge3/lib/python3.10/site-packages (from pymilvus) (7.1.17)\n",
      "Requirement already satisfied: filelock in /Users/zilliz/miniforge3/lib/python3.10/site-packages (from torch) (3.13.1)\n",
      "Requirement already satisfied: typing-extensions in /Users/zilliz/miniforge3/lib/python3.10/site-packages (from torch) (4.8.0)\n",
      "Requirement already satisfied: sympy in /Users/zilliz/miniforge3/lib/python3.10/site-packages (from torch) (1.12)\n",
      "Requirement already satisfied: networkx in /Users/zilliz/miniforge3/lib/python3.10/site-packages (from torch) (3.2.1)\n",
      "Requirement already satisfied: jinja2 in /Users/zilliz/miniforge3/lib/python3.10/site-packages (from torch) (3.1.2)\n",
      "Requirement already satisfied: fsspec in /Users/zilliz/miniforge3/lib/python3.10/site-packages (from torch) (2023.10.0)\n",
      "Requirement already satisfied: six in /Users/zilliz/miniforge3/lib/python3.10/site-packages (from gdown) (1.16.0)\n",
      "Requirement already satisfied: beautifulsoup4 in /Users/zilliz/miniforge3/lib/python3.10/site-packages (from gdown) (4.12.2)\n",
      "Requirement already satisfied: numpy in /Users/zilliz/miniforge3/lib/python3.10/site-packages (from torchvision) (1.25.0)\n",
      "Requirement already satisfied: pillow!=8.3.*,>=5.3.0 in /Users/zilliz/miniforge3/lib/python3.10/site-packages (from torchvision) (10.0.1)\n",
      "Requirement already satisfied: marshmallow>=3.0.0 in /Users/zilliz/miniforge3/lib/python3.10/site-packages (from environs<=9.5.0->pymilvus) (3.20.1)\n",
      "Requirement already satisfied: python-dotenv in /Users/zilliz/miniforge3/lib/python3.10/site-packages (from environs<=9.5.0->pymilvus) (1.0.0)\n",
      "Requirement already satisfied: certifi in /Users/zilliz/miniforge3/lib/python3.10/site-packages (from minio>=7.0.0->pymilvus) (2023.7.22)\n",
      "Requirement already satisfied: urllib3 in /Users/zilliz/miniforge3/lib/python3.10/site-packages (from minio>=7.0.0->pymilvus) (2.0.3)\n",
      "Requirement already satisfied: python-dateutil>=2.8.1 in /Users/zilliz/miniforge3/lib/python3.10/site-packages (from pandas>=1.2.4->pymilvus) (2.8.2)\n",
      "Requirement already satisfied: pytz>=2020.1 in /Users/zilliz/miniforge3/lib/python3.10/site-packages (from pandas>=1.2.4->pymilvus) (2022.7)\n",
      "Requirement already satisfied: soupsieve>1.2 in /Users/zilliz/miniforge3/lib/python3.10/site-packages (from beautifulsoup4->gdown) (2.4.1)\n",
      "Requirement already satisfied: MarkupSafe>=2.0 in /Users/zilliz/miniforge3/lib/python3.10/site-packages (from jinja2->torch) (2.1.3)\n",
      "Requirement already satisfied: charset-normalizer<4,>=2 in /Users/zilliz/miniforge3/lib/python3.10/site-packages (from requests->pymilvus) (3.2.0)\n",
      "Requirement already satisfied: idna<4,>=2.5 in /Users/zilliz/miniforge3/lib/python3.10/site-packages (from requests->pymilvus) (3.4)\n",
      "Requirement already satisfied: PySocks!=1.5.7,>=1.5.6 in /Users/zilliz/miniforge3/lib/python3.10/site-packages (from requests->pymilvus) (1.7.1)\n",
      "Requirement already satisfied: mpmath>=0.19 in /Users/zilliz/miniforge3/lib/python3.10/site-packages (from sympy->torch) (1.3.0)\n",
      "Requirement already satisfied: packaging>=17.0 in /Users/zilliz/miniforge3/lib/python3.10/site-packages (from marshmallow>=3.0.0->environs<=9.5.0->pymilvus) (23.0)\n"
     ]
    }
   ],
   "source": [
    "!pip install pymilvus torch gdown torchvision tqdm"
   ]
  },
  {
   "cell_type": "code",
   "execution_count": 2,
   "metadata": {},
   "outputs": [],
   "source": [
    "import gdown \n",
    "import zipfile\n",
    "import glob\n",
    "import torch\n",
    "import time\n",
    "from torchvision import transforms\n",
    "from PIL import Image\n",
    "from tqdm import tqdm\n",
    "from matplotlib import pyplot as plt\n",
    "from pymilvus import connections, DataType, CollectionSchema, FieldSchema, Collection, utility"
   ]
  },
  {
   "cell_type": "markdown",
   "metadata": {},
   "source": [
    "## Prepare data\n",
    "\n",
    "We are going to use gdown to grab the zip from Google Drive and then decompress it with the built-in zipfile library."
   ]
  },
  {
   "cell_type": "code",
   "execution_count": null,
   "metadata": {},
   "outputs": [],
   "source": [
    "url = 'https://drive.google.com/uc?id=1OYDHLEy992qu5C4C8HV5uDIkOWRTAR1_'\n",
    "output = './paintings.zip'\n",
    "gdown.download(url, output)\n",
    "\n",
    "with zipfile.ZipFile(\"./paintings.zip\",\"r\") as zip_ref:\n",
    "    zip_ref.extractall(\"./paintings\")"
   ]
  },
  {
   "cell_type": "markdown",
   "metadata": {},
   "source": [
    "## Parameters\n",
    "\n",
    "These are some of the main global arguments that we will be using for easier tracking and updating."
   ]
  },
  {
   "cell_type": "code",
   "execution_count": null,
   "metadata": {},
   "outputs": [],
   "source": [
    "# 1. Set up the name of the collection to be created.\n",
    "COLLECTION_NAME = 'image_search_db'\n",
    "\n",
    "# 2. Set up the dimension of the embeddings.\n",
    "DIMENSION = 2048\n",
    "\n",
    "# 3. Set the inference parameters\n",
    "BATCH_SIZE = 128\n",
    "TOP_K = 3\n",
    "\n",
    "# 4. Set up the connection parameters for your Zilliz Cloud cluster.\n",
    "URI = 'YOUR_CLUSTER_ENDPOINT'\n",
    "\n",
    "# For serverless clusters, use your API key as the token.\n",
    "# For dedicated clusters, use a colon (:) concatenating your username and password as the token.\n",
    "TOKEN = 'YOUR_CLUSTER_TOKEN'"
   ]
  },
  {
   "cell_type": "markdown",
   "metadata": {},
   "source": [
    "## Set up Zilliz Cloud\n",
    "\n",
    "At this point, we are going to begin setting up Zilliz Cloud. The steps are as follows:"
   ]
  },
  {
   "cell_type": "code",
   "execution_count": null,
   "metadata": {},
   "outputs": [],
   "source": [
    "# Connect to Zilliz Cloud and create a collection\n",
    "connections.connect(\n",
    "    alias='default',\n",
    "    # Public endpoint obtained from Zilliz Cloud\n",
    "    uri=URI,\n",
    "    token=TOKEN\n",
    ")\n",
    "\n",
    "if COLLECTION_NAME in utility.list_collections():\n",
    "    utility.drop_collection(COLLECTION_NAME)\n",
    "\n",
    "fields = [\n",
    "    FieldSchema(name='id', dtype=DataType.INT64, is_primary=True, auto_id=True),\n",
    "    FieldSchema(name='filepath', dtype=DataType.VARCHAR, max_length=200),  # VARCHARS need a maximum length, so for this example they are set to 200 characters\n",
    "    FieldSchema(name='image_embedding', dtype=DataType.FLOAT_VECTOR, dim=DIMENSION)\n",
    "]\n",
    "\n",
    "schema = CollectionSchema(fields=fields)\n",
    "\n",
    "collection = Collection(\n",
    "    name=COLLECTION_NAME,\n",
    "    schema=schema,\n",
    ")\n",
    "\n",
    "index_params = {\n",
    "    'index_type': 'AUTOINDEX',\n",
    "    'metric_type': 'L2',\n",
    "    'params': {}\n",
    "}\n",
    "\n",
    "collection.create_index(\n",
    "    field_name='image_embedding',\n",
    "    index_params=index_params\n",
    ")"
   ]
  },
  {
   "cell_type": "markdown",
   "metadata": {},
   "source": [
    "## Insert data\n",
    "\n",
    "In this example, we will use the ResNet50 model from the torch library and its model hub. To obtain embeddings, we will remove the final classification layer, resulting in the model providing embeddings of 2048 dimensions. All vision models found on **torch** use the same preprocessing method, which we have included here.\n",
    "\n",
    "In the following steps, we will:"
   ]
  },
  {
   "cell_type": "code",
   "execution_count": null,
   "metadata": {},
   "outputs": [],
   "source": [
    "# Get the filepaths of the images\n",
    "paths = glob.glob('../paintings/paintings/**/*.jpg', recursive=True)\n",
    "print(len(paths))\n",
    "\n",
    "# Load the embedding model with the last layer removed\n",
    "model = torch.hub.load('pytorch/vision:v0.10.0', 'resnet50', pretrained=True)\n",
    "model = torch.nn.Sequential(*(list(model.children())[:-1]))\n",
    "model.eval()\n",
    "\n",
    "# Preprocessing for images\n",
    "preprocess = transforms.Compose([\n",
    "    transforms.Resize(256),\n",
    "    transforms.CenterCrop(224),\n",
    "    transforms.ToTensor(),\n",
    "    transforms.Normalize(mean=[0.485, 0.456, 0.406], std=[0.229, 0.224, 0.225]),\n",
    "])\n",
    "\n",
    "# Embed function that embeds the batch and inserts it\n",
    "def embed(data):\n",
    "    with torch.no_grad():\n",
    "        output = model(torch.stack(data[0])).squeeze()\n",
    "        data = [ {\n",
    "            'filepath': x[0],\n",
    "            'image_embedding': x[1]\n",
    "        } for x in zip(data[1], output.tolist()) ]\n",
    "        collection.insert(data)\n",
    "\n",
    "data_batch = [[],[]]\n",
    "\n",
    "# Read the images into batches for embedding and insertion\n",
    "for path in tqdm(paths):\n",
    "    im = Image.open(path).convert('RGB')\n",
    "    data_batch[0].append(preprocess(im))\n",
    "    data_batch[1].append(path)\n",
    "    if len(data_batch[0]) % BATCH_SIZE == 0:\n",
    "        embed(data_batch)\n",
    "        data_batch = [[],[]]\n",
    "\n",
    "# Embed and insert the remainder\n",
    "if len(data_batch[0]) != 0:\n",
    "    embed(data_batch)\n",
    "\n",
    "# Call a flush to index any unsealed segments.\n",
    "collection.flush()\n",
    "\n",
    "# Get the filepaths of the search images\n",
    "search_paths = glob.glob('./paintings/test_paintings/**/*.jpg', recursive=True)\n",
    "len(search_paths)"
   ]
  },
  {
   "cell_type": "markdown",
   "metadata": {},
   "source": [
    "## Perform search\n",
    "\n",
    "With all the data inserted into Zilliz Cloud, we can start performing our searches. In this example, we are going to search for two example images. Because we are doing a batch search, the search time is shared across the images of the batch."
   ]
  },
  {
   "cell_type": "code",
   "execution_count": null,
   "metadata": {},
   "outputs": [],
   "source": [
    "# Embed the search images\n",
    "def embed(data):\n",
    "    with torch.no_grad():\n",
    "        ret = model(torch.stack(data))\n",
    "        # If more than one image, use squeeze\n",
    "        if len(ret) > 1:\n",
    "            return ret.squeeze().tolist()\n",
    "        # Squeeze would remove batch for single image, so using flatten\n",
    "        else:\n",
    "            return torch.flatten(ret, start_dim=1).tolist()\n",
    "\n",
    "data_batch = [[],[]]\n",
    "\n",
    "for path in search_paths:\n",
    "    im = Image.open(path).convert('RGB')\n",
    "    data_batch[0].append(preprocess(im))\n",
    "    data_batch[1].append(path)\n",
    "\n",
    "embeds = embed(data_batch[0])\n",
    "start = time.time()\n",
    "res = collection.search(embeds, anns_field='image_embedding', param={\"metric_type\": \"L2\", \"params\": {\"nprobe\": 10}}, limit=TOP_K, output_fields=['filepath'])\n",
    "finish = time.time()\n",
    "\n",
    "# Show the image results\n",
    "f, axarr = plt.subplots(len(data_batch[1]), TOP_K + 1, figsize=(20, 10), squeeze=False)\n",
    "\n",
    "for hits_i, hits in enumerate(res):\n",
    "    axarr[hits_i][0].imshow(Image.open(data_batch[1][hits_i]))\n",
    "    axarr[hits_i][0].set_axis_off()\n",
    "    axarr[hits_i][0].set_title('Search Time: ' + str(finish - start))\n",
    "    for hit_i, hit in enumerate(hits):\n",
    "        axarr[hits_i][hit_i + 1].imshow(Image.open(hit['entity']['filepath']))\n",
    "        axarr[hits_i][hit_i + 1].set_axis_off()\n",
    "        axarr[hits_i][hit_i + 1].set_title('Distance: ' + str(hit['distance']))\n",
    "\n",
    "# Save the search result in a separate image file alongside your script.\n",
    "plt.savefig('search_result.png')"
   ]
  }
 ],
 "metadata": {
  "kernelspec": {
   "display_name": "python",
   "language": "python",
   "name": "python3"
  },
  "language_info": {
   "codemirror_mode": {
    "name": "ipython",
    "version": 3
   },
   "file_extension": ".py",
   "mimetype": "text/x-python",
   "name": "python",
   "nbconvert_exporter": "python",
   "pygments_lexer": "ipython3",
   "version": "3.10.12"
  }
 },
 "nbformat": 4,
 "nbformat_minor": 2
}
