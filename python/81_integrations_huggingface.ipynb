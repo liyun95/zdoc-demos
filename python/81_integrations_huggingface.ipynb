{
 "cells": [
  {
   "cell_type": "markdown",
   "metadata": {},
   "source": [
    "# Question Answering Using Zilliz Cloud and Hugging Face\n",
    "\n",
    "This page illustrates how to build a question-answering system using Zilliz Cloud as the vector database and Hugging Face as the embedding system.\n",
    "\n",
    "## Before you start\n",
    "\n",
    "The code snippets on this page require the following packages to be installed: **pymilvus**, **transformers****, and datasets**. The packages **transformers** and **datasets** are the Hugging Face packages to create the pipeline, and **pymilvus** is the client for Zilliz Cloud. If these packages are not present on your system, run the following commands to install them:"
   ]
  },
  {
   "cell_type": "code",
   "execution_count": null,
   "metadata": {},
   "outputs": [],
   "source": [
    "!pip install transformers datasets pymilvus torch"
   ]
  },
  {
   "cell_type": "markdown",
   "metadata": {},
   "source": [
    "Then you need to load the modules to be used in this guide."
   ]
  },
  {
   "cell_type": "code",
   "execution_count": 2,
   "metadata": {},
   "outputs": [
    {
     "name": "stderr",
     "output_type": "stream",
     "text": [
      "/Users/anthony/Documents/Github/zdoc-demos/python/lib/python3.11/site-packages/tqdm/auto.py:21: TqdmWarning: IProgress not found. Please update jupyter and ipywidgets. See https://ipywidgets.readthedocs.io/en/stable/user_install.html\n",
      "  from .autonotebook import tqdm as notebook_tqdm\n"
     ]
    }
   ],
   "source": [
    "# Use PyMilvus in development\n",
    "# Should be replaced with `from pymilvus import *` in production\n",
    "from pathlib import Path\n",
    "import sys\n",
    "sys.path.append(str(Path(\"/Users/anthony/Documents/play/refine_milvus/pymilvus\")))\n",
    "\n",
    "from pymilvus import MilvusClient, FieldSchema, CollectionSchema, DataType\n",
    "from datasets import load_dataset_builder, load_dataset, Dataset\n",
    "from transformers import AutoTokenizer, AutoModel\n",
    "from torch import clamp, sum"
   ]
  },
  {
   "cell_type": "markdown",
   "metadata": {},
   "source": [
    "## Parameters\n",
    "\n",
    "Here we can find the parameters used in the following snippets. Some of them need to be changed to fit your environment. Beside each is a description of what it is."
   ]
  },
  {
   "cell_type": "code",
   "execution_count": 20,
   "metadata": {},
   "outputs": [],
   "source": [
    "# Set up arguments\n",
    "\n",
    "# 1. Set the name of a dataset available on HuggingFace.\n",
    "DATASET = 'squad' \n",
    "\n",
    "# 2. Set parameters for the generation of a subset of the dataset.\n",
    "MODEL = 'bert-base-cased'\n",
    "TOKENIZATION_BATCH_SIZE = 1000\n",
    "INFERENCE_BATCH_SIZE = 64\n",
    "INSERT_RATIO = 0.01\n",
    "\n",
    "# 3. Set up the name of the collection to be created.\n",
    "COLLECTION_NAME = 'huggingface_db'\n",
    "\n",
    "# 4. Set up the dimension of the embeddings.\n",
    "DIMENSION = 768\n",
    "\n",
    "# 5. Set the number of records to return.\n",
    "LIMIT = 10\n",
    "\n",
    "# 6. Set up the connection parameters for your Zilliz Cloud cluster.\n",
    "URI = 'YOUR_CLUSTER_ENDPOINT'\n",
    "\n",
    "TOKEN = 'YOUR_CLUSTER_TOKEN'\n"
   ]
  },
  {
   "cell_type": "markdown",
   "metadata": {},
   "source": [
    "To know more about the model and dataset used on this page, refer to [bert-base-uncased](https://huggingface.co/bert-base-uncased) and [squad](https://huggingface.co/datasets/squad).\n",
    "\n",
    "## Create a collection\n",
    "\n",
    "This section deals with Zilliz Cloud and setting up the cluster for this use case. Within Zilliz Cloud, we need to set up a collection and index it."
   ]
  },
  {
   "cell_type": "code",
   "execution_count": 18,
   "metadata": {},
   "outputs": [
    {
     "name": "stderr",
     "output_type": "stream",
     "text": [
      "alloc_timestamp unimplemented, ignore it\n"
     ]
    }
   ],
   "source": [
    "# Connect to Zilliz Cloud and create a collection\n",
    "\n",
    "client = MilvusClient(uri=URI, token=TOKEN)\n",
    "\n",
    "if COLLECTION_NAME in client.list_collections():\n",
    "    client.drop_collection(COLLECTION_NAME)\n",
    "\n",
    "fields = [\n",
    "    FieldSchema(name='id', dtype=DataType.INT64, is_primary=True, auto_id=True),\n",
    "    FieldSchema(name='original_question', dtype=DataType.VARCHAR, max_length=1000),\n",
    "    FieldSchema(name='answer', dtype=DataType.VARCHAR, max_length=1000),\n",
    "    FieldSchema(name='original_question_embedding', dtype=DataType.FLOAT_VECTOR, dim=DIMENSION)\n",
    "]\n",
    "\n",
    "schema = CollectionSchema(fields=fields)\n",
    "\n",
    "index_params = {\n",
    "    'metric_type': 'L2',\n",
    "    'index_type': 'AUTOINDEX',\n",
    "    'params': {'nlist': 1024}\n",
    "}\n",
    "\n",
    "client.create_collection_with_schema(\n",
    "    collection_name=COLLECTION_NAME, \n",
    "    schema=schema, \n",
    "    index_params=index_params\n",
    ")"
   ]
  },
  {
   "cell_type": "markdown",
   "metadata": {},
   "source": [
    "## Insert data\n",
    "\n",
    "Once we have the collection set up, we need to start inserting our data. This is done in three steps\n",
    "\n",
    "- tokenizing the original question,\n",
    "\n",
    "- embedding the tokenized question, and\n",
    "\n",
    "- inserting the embedding, original question, and answer.\n",
    "\n",
    "In this example, the data includes the original question, the original question's embedding, and the answer to the original question."
   ]
  },
  {
   "cell_type": "code",
   "execution_count": 19,
   "metadata": {},
   "outputs": [
    {
     "name": "stderr",
     "output_type": "stream",
     "text": [
      "Map: 100%|██████████| 982/982 [00:11<00:00, 88.43 examples/s] \n"
     ]
    }
   ],
   "source": [
    "# Load the dataset and extract a subset\n",
    "\n",
    "data_dataset = load_dataset(DATASET, split='all')\n",
    "data_dataset = data_dataset.train_test_split(test_size=INSERT_RATIO, seed=42)['test']\n",
    "data_dataset = data_dataset.map(\n",
    "    lambda val: {'answer': val['answers']['text'][0]}, \n",
    "    remove_columns=['answers']\n",
    ")\n",
    "\n",
    "tokenizer = AutoTokenizer.from_pretrained(MODEL)\n",
    "\n",
    "# Tokenize the question into the format that BERT takes\n",
    "def tokenize_question(batch):\n",
    "    results = tokenizer(\n",
    "        batch['question'],\n",
    "        add_special_tokens=True,\n",
    "        truncation=True,\n",
    "        padding = \"max_length\", \n",
    "        return_attention_mask = True, \n",
    "        return_tensors = \"pt\"\n",
    "    )\n",
    "\n",
    "    batch['input_ids'] = results['input_ids']\n",
    "    batch['token_type_ids'] = results['token_type_ids']\n",
    "    batch['attention_mask'] = results['attention_mask']\n",
    "\n",
    "    return batch\n",
    "\n",
    "# Generate the tokens for each entry\n",
    "data_dataset = data_dataset.map(\n",
    "    tokenize_question, \n",
    "    batched=True, \n",
    "    batch_size=TOKENIZATION_BATCH_SIZE\n",
    ")\n",
    "\n",
    "# Set the output format to torch so it can be pushed into embedding model\n",
    "data_dataset.set_format(\n",
    "    type='torch', \n",
    "    columns=['input_ids', 'token_type_ids', 'attention_mask'],\n",
    "    output_all_columns=True\n",
    ")\n",
    "\n",
    "# Embed the tokenized question and take the mean pool with respect to attention mask of hidden layer\n",
    "\n",
    "model = AutoModel.from_pretrained(MODEL)\n",
    "\n",
    "def embed(batch):\n",
    "    sentence_embs = model(\n",
    "        input_ids=batch['input_ids'],\n",
    "        token_type_ids=batch['token_type_ids'],\n",
    "        attention_mask=batch['attention_mask']\n",
    "    )[0]\n",
    "    input_mask_expanded = batch['attention_mask'].unsqueeze(-1).expand(sentence_embs.size()).float()\n",
    "    batch['question_embedding'] = sum(sentence_embs * input_mask_expanded, 1) / clamp(input_mask_expanded.sum(1), min=1e-9)\n",
    "    return batch\n",
    "\n",
    "data_dataset = data_dataset.map(\n",
    "    embed, \n",
    "    batched=True, \n",
    "    batch_size=INFERENCE_BATCH_SIZE,\n",
    "    remove_columns=['input_ids', 'token_type_ids', 'attention_mask']\n",
    ")\n",
    "\n",
    "# Due to the varchar constraint we are going to limit the question size when inserting\n",
    "def insert_function(batch):\n",
    "    insertable = [\n",
    "        {\n",
    "            'original_question': x,\n",
    "            'answer': batch['answer'][i],\n",
    "            'original_question_embedding': batch['question_embedding'].tolist()[i]\n",
    "        } for i, x in enumerate(batch['question'])\n",
    "    ]\n",
    "\n",
    "    client.insert(collection_name=COLLECTION_NAME, data=insertable)\n",
    "\n",
    "data_dataset.map(insert_function, batched=True, batch_size=64)\n",
    "\n",
    "# Flush the data to disk \n",
    "# Zilliz Cloud automatically flushes the data to disk once a segment is full. \n",
    "# You do not always need to call this method.\n",
    "client.flush(COLLECTION_NAME)"
   ]
  },
  {
   "cell_type": "markdown",
   "metadata": {},
   "source": [
    "## Ask questions\n",
    "\n",
    "Once all the data is inserted and indexed within Zilliz Cloud, we can ask questions and see what the closest answers are."
   ]
  },
  {
   "cell_type": "code",
   "execution_count": 21,
   "metadata": {},
   "outputs": [
    {
     "name": "stderr",
     "output_type": "stream",
     "text": [
      "Map: 100%|██████████| 2/2 [00:00<00:00, 165.03 examples/s]\n",
      "Map: 100%|██████████| 2/2 [00:00<00:00,  4.02 examples/s]\n",
      "Map: 100%|██████████| 2/2 [00:00<00:00,  4.02 examples/s]"
     ]
    },
    {
     "name": "stdout",
     "output_type": "stream",
     "text": [
      "\n",
      "Question:\n",
      "When did the premier league start?\n",
      "Answer, Distance, Original Question\n",
      "('1992', tensor(15.8973), 'In what year was the Premier League created?')\n",
      "('mid-fifteenth century', tensor(21.2091), 'When did Sikhism begin?')\n",
      "('around July 3', tensor(21.5117), \"When does Tucson's monsoon usually start?\")\n",
      "('March 20, 1880', tensor(21.7186), 'When did Tucson get a railroad?')\n",
      "('the Football Bowl Subdivision', tensor(22.8579), 'What is the name of the highest level of college football?')\n",
      "('the district of Germersheim', tensor(23.1635), 'When did the expert commission deliver its report?')\n",
      "('at an Earth Day rally', tensor(23.4384), 'Where did Kerry and Teresa meet?')\n",
      "('April 26', tensor(23.4490), 'When did the torch arrive in Nagano?')\n",
      "('1630', tensor(23.5346), 'When was Boston founded?')\n",
      "('with the signing of the Treaty of Coche by both the centralist government of the time and the Federal Forces', tensor(23.6430), 'How did the federal war end? ')\n",
      "\n",
      "Question:\n",
      "Where did people learn russian?\n",
      "Answer, Distance, Original Question\n",
      "('accomplishments', tensor(23.7489), 'What did Czech historians emphasize about their countrymen?')\n",
      "('people were asked to rate themselves on a scale from completely heterosexual to completely homosexual.', tensor(23.7928), 'What where people asked to do in these research studies?')\n",
      "('Wardenclyffe', tensor(24.7777), 'What did Tesla establish following his Colorado experiments?')\n",
      "('traders', tensor(26.1855), 'Along with fishermen, what sort of Japanese people visited the Marshalls?')\n",
      "('1816 to 1821', tensor(26.2205), 'During what years did Chopin receive instruction from  Żywny?')\n",
      "('Poland, Bulgaria, the Czech Republic, Slovakia, Hungary, Albania, former East Germany and Cuba', tensor(26.3033), 'Where was Russian schooling mandatory in the 20th century?')\n",
      "('March 20, 1880', tensor(26.4897), 'When did Tucson get a railroad?')\n",
      "('Worms', tensor(26.6245), 'Where did Luther refuse to change his beliefs?')\n",
      "('Collaborationist units', tensor(26.8737), 'What type of soldiers came from Hong Kong? ')\n",
      "('1996', tensor(27.1454), 'When did Ross Sackett study time and energy for hunter-gartherer groups?')\n"
     ]
    },
    {
     "name": "stderr",
     "output_type": "stream",
     "text": [
      "\n"
     ]
    }
   ],
   "source": [
    "questions = {'question':['When did the premier league start?', 'Where did people learn russian?']}\n",
    "question_dataset = Dataset.from_dict(questions)\n",
    "\n",
    "question_dataset = question_dataset.map(tokenize_question, batched = True, batch_size=TOKENIZATION_BATCH_SIZE)\n",
    "question_dataset.set_format('torch', columns=['input_ids', 'token_type_ids', 'attention_mask'], output_all_columns=True)\n",
    "question_dataset = question_dataset.map(embed, remove_columns=['input_ids', 'token_type_ids', 'attention_mask'], batched = True, batch_size=INFERENCE_BATCH_SIZE)\n",
    "\n",
    "def search(batch):\n",
    "    res = client.search(\n",
    "        collection_name=COLLECTION_NAME,\n",
    "        data=batch['question_embedding'].tolist(),\n",
    "        output_fields=['answer', 'original_question'], \n",
    "        limit = LIMIT\n",
    "    )\n",
    "    overall_id = []\n",
    "    overall_distance = []\n",
    "    overall_answer = []\n",
    "    overall_original_question = []\n",
    "    for hits in res:\n",
    "        ids = []\n",
    "        distance = []\n",
    "        answer = []\n",
    "        original_question = []\n",
    "        for hit in hits:\n",
    "            ids.append(hit['id'])\n",
    "            distance.append(hit['distance'])\n",
    "            answer.append(hit['entity']['answer'])\n",
    "            original_question.append(hit['entity']['original_question'])\n",
    "        overall_id.append(ids)\n",
    "        overall_distance.append(distance)\n",
    "        overall_answer.append(answer)\n",
    "        overall_original_question.append(original_question)\n",
    "    return {\n",
    "        'id': overall_id,\n",
    "        'distance': overall_distance,\n",
    "        'answer': overall_answer,\n",
    "        'original_question': overall_original_question\n",
    "    }\n",
    "question_dataset = question_dataset.map(search, batched=True, batch_size = 1)\n",
    "for x in question_dataset:\n",
    "    print()\n",
    "    print('Question:')\n",
    "    print(x['question'])\n",
    "    print('Answer, Distance, Original Question')\n",
    "    for x in zip(x['answer'], x['distance'], x['original_question']):\n",
    "        print(x)"
   ]
  }
 ],
 "metadata": {
  "kernelspec": {
   "display_name": "python",
   "language": "python",
   "name": "python3"
  },
  "language_info": {
   "codemirror_mode": {
    "name": "ipython",
    "version": 3
   },
   "file_extension": ".py",
   "mimetype": "text/x-python",
   "name": "python",
   "nbconvert_exporter": "python",
   "pygments_lexer": "ipython3",
   "version": "3.11.5"
  }
 },
 "nbformat": 4,
 "nbformat_minor": 2
}
