{
 "cells": [
  {
   "cell_type": "code",
   "execution_count": null,
   "metadata": {},
   "outputs": [],
   "source": [
    "!python3 -m pip install pymilvus\n",
    "\n",
    "# restart the runtime after the installation completes.\n",
    "# To do so, choose Runtime > Restart runtime from the main menu."
   ]
  },
  {
   "cell_type": "markdown",
   "metadata": {},
   "source": [
    "# Use Built-in Roles\n",
    "\n",
    "Zilliz Cloud offers built-in roles for you to implement flexible role-based access control (RBAC) to your clusters.\n",
    "\n",
    "## Preparations\n",
    "\n",
    "You should connect to one of your cluster before you can add built-in roles for users of the cluster."
   ]
  },
  {
   "cell_type": "code",
   "execution_count": 2,
   "metadata": {},
   "outputs": [],
   "source": [
    "import json, os, time\n",
    "from pymilvus import connections, Role, utility\n",
    "\n",
    "CLUSTER_ENDPOINT=\"YOUR_CLUSTER_ENDPOINT\" # Set your cluster endpoint\n",
    "TOKEN=\"YOUR_CLUSTER_TOKEN\" # Set your token\n",
    "\n",
    "connections.connect(\n",
    "    alias='default', \n",
    "    #  Public endpoint obtained from Zilliz Cloud\n",
    "    uri=CLUSTER_ENDPOINT,\n",
    "    # API key or a colon-separated cluster username and password\n",
    "    token=TOKEN, \n",
    ")"
   ]
  },
  {
   "cell_type": "markdown",
   "metadata": {},
   "source": [
    "## Create a user\n",
    "\n",
    "On Zilliz Cloud console, you can view existing cluster users on the `Users` tab of a cluster. To create a new one, do as follows:"
   ]
  },
  {
   "cell_type": "code",
   "execution_count": 3,
   "metadata": {},
   "outputs": [],
   "source": [
    "if not 'user1' in utility.list_usernames():\n",
    "    utility.create_user(user='user1', password='P@ssw0rd!')"
   ]
  },
  {
   "cell_type": "markdown",
   "metadata": {},
   "source": [
    "You can change the password for the cluster user as follows:"
   ]
  },
  {
   "cell_type": "code",
   "execution_count": 4,
   "metadata": {},
   "outputs": [],
   "source": [
    "# 2. Update user credentials\n",
    "\n",
    "utility.update_password(\n",
    "    user='user1',\n",
    "    old_password='P@ssw0rd!',\n",
    "    new_password='P@ssw0rd!!'\n",
    ")"
   ]
  },
  {
   "cell_type": "markdown",
   "metadata": {},
   "source": [
    "## List users\n",
    "\n",
    "As an alternative, you can also list the users of a specific cluster programmatically as follows: "
   ]
  },
  {
   "cell_type": "code",
   "execution_count": 5,
   "metadata": {},
   "outputs": [
    {
     "name": "stdout",
     "output_type": "stream",
     "text": [
      "['db_admin', 'user1']\n",
      "[\n",
      "    {\n",
      "        \"user\": \"db_admin\",\n",
      "        \"roles\": [\n",
      "            \"db_admin\"\n",
      "        ]\n",
      "    },\n",
      "    {\n",
      "        \"user\": \"user1\",\n",
      "        \"roles\": []\n",
      "    }\n",
      "]\n"
     ]
    }
   ],
   "source": [
    "# 3. List users\n",
    "\n",
    "# List only names of the cluster users\n",
    "print(utility.list_usernames())\n",
    "\n",
    "# List cluster users with their roles\n",
    "userInfo = utility.list_users(include_role_info=True)\n",
    "\n",
    "users = [ { \"user\": u.username, \"roles\": list(u.roles) } for u in userInfo.groups ]\n",
    "\n",
    "print(json.dumps(users, indent=4))"
   ]
  },
  {
   "cell_type": "markdown",
   "metadata": {},
   "source": [
    "## Assign roles \n",
    "\n",
    "After you have created a new user, you can assign the user some roles. Currently, Zilliz Cloud offers three built-in roles for cluster users, namely cluster administrators (`db_admin`), read-only cluster users (`db_ro`), and cluster users with read and write permissions (`db_rw`). For details on the permissions of these roles, refer to [Manage Built-in Roles](#)"
   ]
  },
  {
   "cell_type": "code",
   "execution_count": 6,
   "metadata": {},
   "outputs": [
    {
     "name": "stdout",
     "output_type": "stream",
     "text": [
      "[\n",
      "    \"user1\"\n",
      "]\n"
     ]
    }
   ],
   "source": [
    "# 4. Assign role\n",
    "\n",
    "role = Role(\"db_ro\")\n",
    "\n",
    "role.add_user(\"user1\")\n",
    "\n",
    "# 5. Get users of a specific role\n",
    "\n",
    "users = list(role.get_users())\n",
    "\n",
    "print(json.dumps(users, indent=4))"
   ]
  },
  {
   "cell_type": "markdown",
   "metadata": {},
   "source": [
    "You can also remove users from a specific role."
   ]
  },
  {
   "cell_type": "code",
   "execution_count": null,
   "metadata": {},
   "outputs": [],
   "source": [
    "role.remove_user(\"user1\")"
   ]
  },
  {
   "cell_type": "markdown",
   "metadata": {},
   "source": [
    "## List roles\n",
    "\n",
    "You can list all roles with their corresponding cluster users."
   ]
  },
  {
   "cell_type": "code",
   "execution_count": 7,
   "metadata": {},
   "outputs": [
    {
     "name": "stdout",
     "output_type": "stream",
     "text": [
      "[\n",
      "    {\n",
      "        \"role\": \"admin\",\n",
      "        \"users\": [\n",
      "            \"zcloud_root\"\n",
      "        ]\n",
      "    },\n",
      "    {\n",
      "        \"role\": \"db_admin\",\n",
      "        \"users\": [\n",
      "            \"db_admin\"\n",
      "        ]\n",
      "    },\n",
      "    {\n",
      "        \"role\": \"db_ro\",\n",
      "        \"users\": [\n",
      "            \"user1\"\n",
      "        ]\n",
      "    },\n",
      "    {\n",
      "        \"role\": \"db_rw\",\n",
      "        \"users\": []\n",
      "    },\n",
      "    {\n",
      "        \"role\": \"public\",\n",
      "        \"users\": []\n",
      "    }\n",
      "]\n"
     ]
    }
   ],
   "source": [
    "# 6. List roles\n",
    "\n",
    "roleInfo = utility.list_roles(include_user_info=True)\n",
    "\n",
    "roles = [ { \"role\": g.role_name, \"users\": list(g.users) } for g in roleInfo.groups ]\n",
    "\n",
    "print(json.dumps(roles, indent=4))"
   ]
  },
  {
   "cell_type": "markdown",
   "metadata": {},
   "source": [
    "## Delete user\n",
    "\n",
    "Once a cluster user is no longer in need, delete it as follows:"
   ]
  },
  {
   "cell_type": "code",
   "execution_count": 8,
   "metadata": {},
   "outputs": [],
   "source": [
    "# 7. Delete user\n",
    "utility.delete_user('user1')"
   ]
  }
 ],
 "metadata": {
  "kernelspec": {
   "display_name": "python",
   "language": "python",
   "name": "python3"
  },
  "language_info": {
   "codemirror_mode": {
    "name": "ipython",
    "version": 3
   },
   "file_extension": ".py",
   "mimetype": "text/x-python",
   "name": "python",
   "nbconvert_exporter": "python",
   "pygments_lexer": "ipython3",
   "version": "3.11.5"
  }
 },
 "nbformat": 4,
 "nbformat_minor": 2
}
